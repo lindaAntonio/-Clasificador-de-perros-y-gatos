{
 "cells": [
  {
   "cell_type": "code",
   "execution_count": 1,
   "id": "4747cce4-f6bd-4d9f-a75f-0c39a3f7106b",
   "metadata": {},
   "outputs": [
    {
     "name": "stderr",
     "output_type": "stream",
     "text": [
      "C:\\ProgramData\\anaconda3\\Lib\\site-packages\\keras\\src\\layers\\core\\dense.py:87: UserWarning: Do not pass an `input_shape`/`input_dim` argument to a layer. When using Sequential models, prefer using an `Input(shape)` object as the first layer in the model instead.\n",
      "  super().__init__(activity_regularizer=activity_regularizer, **kwargs)\n"
     ]
    },
    {
     "name": "stdout",
     "output_type": "stream",
     "text": [
      "=========================================== RUNNING MODEL =========================================================================\n",
      "==================================================3-denselayer-3-convlayer-64-neuron-1732063752======================================================================\n",
      "Epoch 1/8\n",
      "\u001b[1m647/647\u001b[0m \u001b[32m━━━━━━━━━━━━━━━━━━━━\u001b[0m\u001b[37m\u001b[0m \u001b[1m24s\u001b[0m 31ms/step - accuracy: 0.5515 - loss: 0.6789 - val_accuracy: 0.6909 - val_loss: 0.5875\n",
      "Epoch 2/8\n",
      "\u001b[1m647/647\u001b[0m \u001b[32m━━━━━━━━━━━━━━━━━━━━\u001b[0m\u001b[37m\u001b[0m \u001b[1m20s\u001b[0m 30ms/step - accuracy: 0.7016 - loss: 0.5688 - val_accuracy: 0.7774 - val_loss: 0.4800\n",
      "Epoch 3/8\n",
      "\u001b[1m647/647\u001b[0m \u001b[32m━━━━━━━━━━━━━━━━━━━━\u001b[0m\u001b[37m\u001b[0m \u001b[1m20s\u001b[0m 31ms/step - accuracy: 0.7837 - loss: 0.4618 - val_accuracy: 0.8017 - val_loss: 0.4319\n",
      "Epoch 4/8\n",
      "\u001b[1m647/647\u001b[0m \u001b[32m━━━━━━━━━━━━━━━━━━━━\u001b[0m\u001b[37m\u001b[0m \u001b[1m20s\u001b[0m 30ms/step - accuracy: 0.8161 - loss: 0.4066 - val_accuracy: 0.7987 - val_loss: 0.4527\n",
      "Epoch 5/8\n",
      "\u001b[1m647/647\u001b[0m \u001b[32m━━━━━━━━━━━━━━━━━━━━\u001b[0m\u001b[37m\u001b[0m \u001b[1m20s\u001b[0m 31ms/step - accuracy: 0.8389 - loss: 0.3612 - val_accuracy: 0.8161 - val_loss: 0.4049\n",
      "Epoch 6/8\n",
      "\u001b[1m647/647\u001b[0m \u001b[32m━━━━━━━━━━━━━━━━━━━━\u001b[0m\u001b[37m\u001b[0m \u001b[1m20s\u001b[0m 30ms/step - accuracy: 0.8660 - loss: 0.3092 - val_accuracy: 0.8300 - val_loss: 0.3813\n",
      "Epoch 7/8\n",
      "\u001b[1m647/647\u001b[0m \u001b[32m━━━━━━━━━━━━━━━━━━━━\u001b[0m\u001b[37m\u001b[0m \u001b[1m20s\u001b[0m 30ms/step - accuracy: 0.8862 - loss: 0.2686 - val_accuracy: 0.7987 - val_loss: 0.4561\n",
      "Epoch 8/8\n",
      "\u001b[1m647/647\u001b[0m \u001b[32m━━━━━━━━━━━━━━━━━━━━\u001b[0m\u001b[37m\u001b[0m \u001b[1m20s\u001b[0m 30ms/step - accuracy: 0.9052 - loss: 0.2277 - val_accuracy: 0.8152 - val_loss: 0.4853\n"
     ]
    }
   ],
   "source": [
    "import pickle\n",
    "\n",
    "X = pickle.load(open('X.pkl', 'rb'))\n",
    "y = pickle.load(open('y.pkl', 'rb'))\n",
    "\n",
    "X = X/255\n",
    "\n",
    "X = X.reshape(-1, 60, 60, 1)\n",
    "\n",
    "from keras.models import Sequential\n",
    "from keras.layers import Conv2D, MaxPooling2D, Dense, Flatten\n",
    "\n",
    "from keras.callbacks import TensorBoard\n",
    "import time\n",
    "\n",
    "dense_layers = [3]\n",
    "conv_layers = [3]\n",
    "neurons = [64]\n",
    "\n",
    "#Tuneo del modelo, paara conseguir el mejor modelo para predecir fotos.\n",
    "for dense_layer in dense_layers:\n",
    "\tfor conv_layer in conv_layers:\n",
    "\t\tfor neuron in neurons:\n",
    "\n",
    "\t\t\tNAME = '{}-denselayer-{}-convlayer-{}-neuron-{}'.format(dense_layer, conv_layer, neuron, int(time.time()))\n",
    "\t\t\ttensorboard = TensorBoard(log_dir = 'logs2\\\\{}'.format(NAME))\n",
    "\n",
    "\n",
    "\t\t\tmodel = Sequential()\n",
    "\n",
    "\t\t\tfor l in range(conv_layer):\n",
    "\t\t\t\tmodel.add(Conv2D(neuron, (3,3), activation = 'relu'))\n",
    "\t\t\t\tmodel.add(MaxPooling2D((2,2)))\n",
    "\n",
    "\t\t\tmodel.add(Flatten())\n",
    "\n",
    "\t\t\tmodel.add(Dense(neuron, input_shape = X.shape[1:], activation = 'relu'))\n",
    "\n",
    "\t\t\tfor l in range(dense_layer - 1):\n",
    "\t\t\t\tmodel.add(Dense(neuron, activation = 'relu'))\n",
    "\n",
    "\t\t\tmodel.add(Dense(2, activation = 'softmax'))\n",
    "\n",
    "\t\t\tmodel.compile(optimizer='adam',\n",
    "\t\t\t              loss='sparse_categorical_crossentropy',\n",
    "\t\t\t              metrics=['accuracy'])\n",
    "\t\t\tprint('=========================================== RUNNING MODEL =========================================================================')\n",
    "\t\t\tprint('=================================================='+ NAME + '======================================================================')\n",
    "\t\t\t\n",
    "\t\t\tmodel.fit(X, y, epochs=8, batch_size = 32, validation_split=0.1, callbacks = [tensorboard])\n",
    "\n",
    "\t\t\tmodel.save('catvsdog.keras')"
   ]
  }
 ],
 "metadata": {
  "kernelspec": {
   "display_name": "Python 3 (ipykernel)",
   "language": "python",
   "name": "python3"
  },
  "language_info": {
   "codemirror_mode": {
    "name": "ipython",
    "version": 3
   },
   "file_extension": ".py",
   "mimetype": "text/x-python",
   "name": "python",
   "nbconvert_exporter": "python",
   "pygments_lexer": "ipython3",
   "version": "3.12.4"
  }
 },
 "nbformat": 4,
 "nbformat_minor": 5
}
