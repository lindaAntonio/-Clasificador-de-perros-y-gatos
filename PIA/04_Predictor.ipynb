{
 "cells": [
  {
   "cell_type": "code",
   "execution_count": 1,
   "id": "adb9f5fd-d325-4a9b-a7db-9cdd70057d00",
   "metadata": {},
   "outputs": [],
   "source": [
    "import cv2\n",
    "import keras"
   ]
  },
  {
   "cell_type": "code",
   "execution_count": 2,
   "id": "6849d7df-72ec-476e-b6e4-8dc95088ea42",
   "metadata": {},
   "outputs": [],
   "source": [
    "import numpy as np\n",
    "CATEGORIES = ['cats', 'dogs']\n",
    "\n",
    "#Lectura de foto que se mando a predecir para que tenga formato correcto.\n",
    "def image(path):\n",
    "    img = cv2.imread(path, cv2.IMREAD_GRAYSCALE)\n",
    "    new_arr = cv2.resize(img, (60, 60))\n",
    "    new_arr = np.array(new_arr)\n",
    "    new_arr = new_arr.reshape(-1, 60, 60, 1)\n",
    "    return new_arr\n",
    "\n",
    "#Carga de modelo creado en el tuning.\n",
    "model = keras.models.load_model('catvsdog.keras')"
   ]
  },
  {
   "cell_type": "code",
   "execution_count": 27,
   "id": "74d3ed57-27a7-431f-8231-6560d97ddd3e",
   "metadata": {},
   "outputs": [
    {
     "name": "stdout",
     "output_type": "stream",
     "text": [
      "\u001b[1m1/1\u001b[0m \u001b[32m━━━━━━━━━━━━━━━━━━━━\u001b[0m\u001b[37m\u001b[0m \u001b[1m0s\u001b[0m 33ms/step\n",
      "cats\n"
     ]
    }
   ],
   "source": [
    "#Prediccion de imagen.\n",
    "prediction = model.predict([image(r'dogscats\\test\\22.jpg')])\n",
    "print(CATEGORIES[prediction.argmax()])"
   ]
  }
 ],
 "metadata": {
  "kernelspec": {
   "display_name": "Python 3 (ipykernel)",
   "language": "python",
   "name": "python3"
  },
  "language_info": {
   "codemirror_mode": {
    "name": "ipython",
    "version": 3
   },
   "file_extension": ".py",
   "mimetype": "text/x-python",
   "name": "python",
   "nbconvert_exporter": "python",
   "pygments_lexer": "ipython3",
   "version": "3.12.4"
  }
 },
 "nbformat": 4,
 "nbformat_minor": 5
}
